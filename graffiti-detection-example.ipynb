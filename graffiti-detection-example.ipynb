{
 "cells": [
  {
   "cell_type": "markdown",
   "metadata": {},
   "source": [
    "# Graffiti detection using roboflow dataset and YoloV8\n",
    "\n",
    "This notebook serves as a guide to train and use a the yolov8 model to detect graffiti, in order to do that we will use the ultralytics version of yolov8."
   ]
  },
  {
   "cell_type": "markdown",
   "metadata": {},
   "source": [
    "# Before we start working with the model ...\n",
    "\n",
    "If you had the previous version of the scraper and collected the data with it, you might like to execute the next cells in order to change the names of the images to just the image name instead of the real path."
   ]
  },
  {
   "cell_type": "code",
   "execution_count": null,
   "metadata": {},
   "outputs": [],
   "source": [
    "import pandas as pd\n",
    "\n",
    "old_data = pd.read_csv(\"./links_and_file_names.csv\")\n",
    "\n",
    "old_data.head()"
   ]
  },
  {
   "cell_type": "code",
   "execution_count": 2,
   "metadata": {},
   "outputs": [
    {
     "data": {
      "text/plain": [
       "'C:\\\\Users\\\\usuario\\\\Desktop\\\\Personal projects\\\\ML-Projects\\\\graffiti analysis\\\\graffiti-analysis\\\\images\\\\img_0.jpg'"
      ]
     },
     "execution_count": 2,
     "metadata": {},
     "output_type": "execute_result"
    }
   ],
   "source": [
    "old_data[\"img_name\"][0]"
   ]
  },
  {
   "cell_type": "code",
   "execution_count": 10,
   "metadata": {},
   "outputs": [
    {
     "data": {
      "text/plain": [
       "'C:\\\\Users\\\\usuario\\\\Desktop\\\\Personal projects\\\\ML-Projects\\\\graffiti analysis\\\\graffiti-analysis\\\\'"
      ]
     },
     "execution_count": 10,
     "metadata": {},
     "output_type": "execute_result"
    }
   ],
   "source": [
    "import pathlib\n",
    "from os import path\n",
    "\n",
    "newpath = f\"{str(pathlib.Path().absolute())}\\\\\"\n",
    "# pahtlib returns the file location using a c instead of a C\n",
    "newpath = 'C'+ newpath[1:len(newpath)]\n",
    "newpath"
   ]
  },
  {
   "cell_type": "code",
   "execution_count": 11,
   "metadata": {},
   "outputs": [
    {
     "data": {
      "text/plain": [
       "'img_0.jpg'"
      ]
     },
     "execution_count": 11,
     "metadata": {},
     "output_type": "execute_result"
    }
   ],
   "source": [
    "a = old_data[\"img_name\"][0]\n",
    "a.removeprefix(newpath + \"images\\\\\")"
   ]
  },
  {
   "cell_type": "code",
   "execution_count": 12,
   "metadata": {},
   "outputs": [
    {
     "data": {
      "text/html": [
       "<div>\n",
       "<style scoped>\n",
       "    .dataframe tbody tr th:only-of-type {\n",
       "        vertical-align: middle;\n",
       "    }\n",
       "\n",
       "    .dataframe tbody tr th {\n",
       "        vertical-align: top;\n",
       "    }\n",
       "\n",
       "    .dataframe thead th {\n",
       "        text-align: right;\n",
       "    }\n",
       "</style>\n",
       "<table border=\"1\" class=\"dataframe\">\n",
       "  <thead>\n",
       "    <tr style=\"text-align: right;\">\n",
       "      <th></th>\n",
       "      <th>link_to_img</th>\n",
       "      <th>img_name</th>\n",
       "    </tr>\n",
       "  </thead>\n",
       "  <tbody>\n",
       "    <tr>\n",
       "      <th>0</th>\n",
       "      <td>https://live.staticflickr.com/3813/11280349214...</td>\n",
       "      <td>img_0.jpg</td>\n",
       "    </tr>\n",
       "    <tr>\n",
       "      <th>1</th>\n",
       "      <td>https://live.staticflickr.com/3902/14681887286...</td>\n",
       "      <td>img_1.jpg</td>\n",
       "    </tr>\n",
       "    <tr>\n",
       "      <th>2</th>\n",
       "      <td>https://live.staticflickr.com/197/441199812_21...</td>\n",
       "      <td>img_2.jpg</td>\n",
       "    </tr>\n",
       "    <tr>\n",
       "      <th>3</th>\n",
       "      <td>https://live.staticflickr.com/65535/5098186973...</td>\n",
       "      <td>img_3.jpg</td>\n",
       "    </tr>\n",
       "    <tr>\n",
       "      <th>4</th>\n",
       "      <td>https://live.staticflickr.com/7849/45972882765...</td>\n",
       "      <td>img_4.jpg</td>\n",
       "    </tr>\n",
       "  </tbody>\n",
       "</table>\n",
       "</div>"
      ],
      "text/plain": [
       "                                         link_to_img   img_name\n",
       "0  https://live.staticflickr.com/3813/11280349214...  img_0.jpg\n",
       "1  https://live.staticflickr.com/3902/14681887286...  img_1.jpg\n",
       "2  https://live.staticflickr.com/197/441199812_21...  img_2.jpg\n",
       "3  https://live.staticflickr.com/65535/5098186973...  img_3.jpg\n",
       "4  https://live.staticflickr.com/7849/45972882765...  img_4.jpg"
      ]
     },
     "execution_count": 12,
     "metadata": {},
     "output_type": "execute_result"
    }
   ],
   "source": [
    "old_data[\"img_name\"] = old_data[\"img_name\"].map(lambda x: x.removeprefix(newpath + \"images\\\\\"))\n",
    "\n",
    "old_data.head()"
   ]
  },
  {
   "cell_type": "code",
   "execution_count": 13,
   "metadata": {},
   "outputs": [],
   "source": [
    "old_data.to_csv(str(path.join(newpath, 'links_and_file_names.csv')), index = False)"
   ]
  },
  {
   "cell_type": "markdown",
   "metadata": {},
   "source": [
    "## Back to training the model\n",
    "\n",
    "First we use only the data available on the [roboflow dataset](https://universe.roboflow.com/sumanthrao369/graffiti-collab), in order to do that go to the link and then download the zip file for yolov8."
   ]
  }
 ],
 "metadata": {
  "kernelspec": {
   "display_name": "venv",
   "language": "python",
   "name": "python3"
  },
  "language_info": {
   "codemirror_mode": {
    "name": "ipython",
    "version": 3
   },
   "file_extension": ".py",
   "mimetype": "text/x-python",
   "name": "python",
   "nbconvert_exporter": "python",
   "pygments_lexer": "ipython3",
   "version": "3.11.0"
  }
 },
 "nbformat": 4,
 "nbformat_minor": 2
}
